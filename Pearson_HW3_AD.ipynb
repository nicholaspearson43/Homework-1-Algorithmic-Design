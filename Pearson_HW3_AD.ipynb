{
  "nbformat": 4,
  "nbformat_minor": 0,
  "metadata": {
    "colab": {
      "name": "Pearson_HW3_AD.ipynb",
      "provenance": [],
      "collapsed_sections": [],
      "authorship_tag": "ABX9TyMpAdDTPuXIZqobxM6b1kM6",
      "include_colab_link": true
    },
    "kernelspec": {
      "name": "python3",
      "display_name": "Python 3"
    },
    "language_info": {
      "name": "python"
    }
  },
  "cells": [
    {
      "cell_type": "markdown",
      "metadata": {
        "id": "view-in-github",
        "colab_type": "text"
      },
      "source": [
        "<a href=\"https://colab.research.google.com/github/nicholaspearson43/Homework-Algorithmic-Design/blob/main/Pearson_HW3_AD.ipynb\" target=\"_parent\"><img src=\"https://colab.research.google.com/assets/colab-badge.svg\" alt=\"Open In Colab\"/></a>"
      ]
    },
    {
      "cell_type": "markdown",
      "metadata": {
        "id": "JnEaNw9kNJV4"
      },
      "source": [
        "# Algorithmic Design - Homework 3\n",
        "## Nicholas Andrea Pearson - SM3500457\n",
        "\n",
        "I decided to use the binheap implementation we created during the lectures.\n",
        "A few adjustments were made to better fit the requirements of the queue for point 1."
      ]
    },
    {
      "cell_type": "code",
      "metadata": {
        "id": "0WDDALLDNINF"
      },
      "source": [
        "from typing import TypeVar, Generic, Union, List\n",
        "from numbers import Number\n",
        "\n",
        "T = TypeVar('T')\n",
        "\n",
        "def min_order(a: Number, b: Number) -> bool:\n",
        "    return a<= b\n",
        "\n",
        "def max_order(a: Number, b: Number) -> bool:\n",
        "    return a>=b\n",
        "\n",
        "class binheap(Generic[T]):\n",
        "    LEFT = 0\n",
        "    RIGHT=1\n",
        "    def __init__(self, A: Union[int, List[T]], total_order=None):\n",
        "        if total_order is None:\n",
        "            self._torder=min_order\n",
        "        else:\n",
        "            self._torder=total_order\n",
        "\n",
        "        if isinstance(A, int):\n",
        "            self._size=0\n",
        "            self._A=[None]*A\n",
        "        else:\n",
        "            self._size = len(A)\n",
        "            self._A = A\n",
        "\n",
        "        self._build_heap()\n",
        "\n",
        "    @staticmethod\n",
        "    def parent(node: int) -> Union[int, None]:\n",
        "        if node == 0:\n",
        "            return None\n",
        "        return (node-1)//2\n",
        "\n",
        "    @staticmethod\n",
        "    def child(self, node:int, side:int)-> int:\n",
        "        return 2*node+1+side\n",
        "\n",
        "    @staticmethod\n",
        "    def left(node: int) -> int:\n",
        "        return 2*node+1\n",
        "\n",
        "    @staticmethod\n",
        "    def right(node: int) -> int:\n",
        "        return 2 * node + 2\n",
        "\n",
        "    def __len__(self):\n",
        "        return self._size\n",
        "\n",
        "    def is_empty(self) -> bool:\n",
        "        return self._size==0\n",
        "\n",
        "\n",
        "    def _swap_keys(self, node_a:int, node_b: int) -> None:\n",
        "        tmp = self._A[node_a]\n",
        "        self._A[node_a]=self._A[node_b]\n",
        "        self._A[node_b]=tmp\n",
        "\n",
        "        tmp = self._A[node_a].index_in_heap\n",
        "        self._A[node_a].index_in_heap=self._A[node_b].index_in_heap\n",
        "        self._A[node_b].index_in_heap=tmp\n",
        "\n",
        "    def _heapify(self, node: int) -> None:\n",
        "        keep_fixing=True\n",
        "\n",
        "        while keep_fixing:\n",
        "            min_node = node\n",
        "            for child_idx in [binheap.left(node), binheap.right(node)]:\n",
        "                 if (child_idx<self._size and self._torder(self._A[child_idx].d, self._A[min_node].d)):\n",
        "                    min_node=child_idx\n",
        "            \n",
        "            if min_node != node:\n",
        "                self._swap_keys(min_node, node)\n",
        "                node=min_node\n",
        "            else:\n",
        "                keep_fixing=False\n",
        "\n",
        "    def remove_minimum(self) -> T:\n",
        "        if self.is_empty():\n",
        "            raise RuntimeError(\"The heap is empty\")\n",
        "\n",
        "        self._swap_keys(0, self._size-1)\n",
        "        #self._A[0] = self._A[self._size-1]\n",
        "\n",
        "\n",
        "        self._size = self._size - 1\n",
        "        self._heapify(0)\n",
        "\n",
        "        return self._A[self._size]\n",
        "\n",
        "    def _build_heap(self) -> None:\n",
        "        for i in range((self._size-1), -1, -1):\n",
        "            self._heapify(i)\n",
        "\n",
        "    def decrease_key(self, node: int, new_value: T) -> None:\n",
        "        #if self._torder(self._A[node].d, new_value):\n",
        "        #    raise RuntimeError(f'{new_value} is not smaller than'+f'{self.A[node]}')\n",
        "\n",
        "        self._A[node].d= new_value\n",
        "        parent = binheap.parent(node)\n",
        "        while (node != 0 and not self._torder(self._A[parent].d, self._A[node].d)):\n",
        "            self._swap_keys(node, parent)\n",
        "\n",
        "            node=parent\n",
        "            parent=binheap.parent(node)\n",
        "\n",
        "    def insert(self, value: T) -> None:\n",
        "        if self._size >= len(self._A):\n",
        "            raise RuntimeError('The Heap is full')\n",
        "\n",
        "        if self.is_empty():\n",
        "            self._A[0]=value\n",
        "            self._size += 1\n",
        "        else:\n",
        "            parent=binheap.parent(self._size)\n",
        "            if self._torder(self._A[parent].d, value):\n",
        "                self._A[self._size].d=value\n",
        "                self._size += 1\n",
        "            else:\n",
        "                self._A[self._size].d= self._A[parent].d\n",
        "                self._size += 1\n",
        "                self.decrease_key(self._size - 1, value)\n",
        "\n",
        "\n",
        "    def __repr__(self) -> str:\n",
        "        bt_str = ''\n",
        "\n",
        "        next_node = 1\n",
        "        up_to = 2\n",
        "\n",
        "        while next_node <= self._size:\n",
        "            level = '\\t'.join(f'{v}' for v in self._A[next_node-1: up_to-1])\n",
        "\n",
        "            if next_node == 1:\n",
        "                bh_str = level\n",
        "            else:\n",
        "                bh_str += f'\\n{level}'\n",
        "\n",
        "            next_node = up_to\n",
        "            up_to = 2*up_to\n",
        "\n",
        "        return bh_str\n",
        "\n"
      ],
      "execution_count": 1,
      "outputs": []
    },
    {
      "cell_type": "markdown",
      "metadata": {
        "id": "O3WuzqAfNUhw"
      },
      "source": [
        "## Exercise 1 \n",
        "Implement the binary heap-based version of the Dijkstra's algorithm.\n",
        "\n",
        "### Solution:"
      ]
    },
    {
      "cell_type": "markdown",
      "metadata": {
        "id": "YJZVv4oJfU1k"
      },
      "source": [
        "The first thing we need to do is implement a weighted graph class with nodes and edges.\n",
        "The attribute ```importance``` was added to define an order in which to remove the nodes as required in exercise ```2.1```.\n",
        "\n",
        "\n"
      ]
    },
    {
      "cell_type": "code",
      "metadata": {
        "id": "vAZtwCoVjVkn"
      },
      "source": [
        "class Node:\n",
        "  def __init__(self, key: int, importance:int = 1):\n",
        "    self.key = key \n",
        "    self.d = float('inf') #for Dijkstra\n",
        "    self.pred = None #for Dijkstra\n",
        "    self.importance = importance # the higher this value, the more important the node. Used in part 2\n",
        "    self.index_in_heap = None #for Dijkstra\n",
        "    self.index_in_adj = 0\n",
        "\n",
        "  def print_node(self):\n",
        "      print(f\" The key of the node is: {self.key}\")"
      ],
      "execution_count": 2,
      "outputs": []
    },
    {
      "cell_type": "code",
      "metadata": {
        "id": "7D1USa3fjWdz"
      },
      "source": [
        "class Edge:\n",
        "    def __init__(self, head: Node, tail: Node, weight = 1):\n",
        "      self.head = head\n",
        "      self.tail = tail\n",
        "      self.weight = weight"
      ],
      "execution_count": 3,
      "outputs": []
    },
    {
      "cell_type": "code",
      "metadata": {
        "id": "vf9X2uv8eWs-"
      },
      "source": [
        "class W_Graph:\n",
        "  def __init__(self, nodes: List[Node], edges: List[Edge]):\n",
        "      self.V = nodes\n",
        "      self.E = edges\n",
        "      self.A = [[] for node in range(len(self.V))]\n",
        "      \n",
        "      for i in range(len(self.V)):\n",
        "        self.V[i].index_in_adj = i\n",
        "        for edge in self.E:\n",
        "          if edge.head.key == self.V[i].key:\n",
        "            self.A[i].append((edge.tail, edge.weight))\n",
        "\n",
        "\n",
        "\n",
        "  def print_A(self): #auxilliary function to better visualize the graph\n",
        "    out = []\n",
        "    for i in range(len(self.V)):\n",
        "      out.append(self.V[i].key)\n",
        "    if(len(out) != 0 and len(out) != 1):\n",
        "      print(f\"The remaining nodes are: {out}.\")\n",
        "      print(\"The graph has the following connenctions:\")\n",
        "    elif (len(out) == 1):\n",
        "      print(f\"The only remaining node is: {out}.\")\n",
        "      print(\"Since there is only one node, there are no edges.\")\n",
        "    elif (len(out) == 0):\n",
        "      print(\"There are no nodes and thus no edges.\")\n",
        "    for i in self.V:\n",
        "      for j in self.E:\n",
        "        if i.key == j.head.key:\n",
        "          print(f\"[Head key {i.key} | Tail key {j.tail.key} | Weight {j.weight}]\")\n",
        "    print(\"\\n\")\n",
        "          "
      ],
      "execution_count": 4,
      "outputs": []
    },
    {
      "cell_type": "code",
      "metadata": {
        "id": "pdtwTy1alBJk"
      },
      "source": [
        "a=Node(0) #if the importance is not specified it is set to 1 by default.\n",
        "b=Node(1, 2)\n",
        "c=Node(2, 3)\n",
        "d=Node(3, 4)\n",
        "e=Node(4, 5)\n",
        "f=Node(5, 6)\n",
        "g=Node(6, 7)\n",
        "h=Node(7, 8)"
      ],
      "execution_count": 5,
      "outputs": []
    },
    {
      "cell_type": "code",
      "metadata": {
        "colab": {
          "base_uri": "https://localhost:8080/"
        },
        "id": "QWQBxS_-o-oJ",
        "outputId": "ff0cb2da-4ff5-4d2a-a346-2fe6aab4a42c"
      },
      "source": [
        "nodes = [a,b,c,d,e,f,g,h]\n",
        "edges=[Edge(a,e,1),Edge(a,f,1),Edge(b,c,2),Edge(c,b,1),Edge(c,d,3),Edge(d,h,3),Edge(d,g,1),Edge(e,f,1),Edge(e,a,3),Edge(f,h,1),Edge(g,h,1),Edge(h,g,1),Edge(h,a,1) ]\n",
        "WG = W_Graph(nodes, edges)\n",
        "WG.print_A()"
      ],
      "execution_count": 6,
      "outputs": [
        {
          "output_type": "stream",
          "text": [
            "The remaining nodes are: [0, 1, 2, 3, 4, 5, 6, 7].\n",
            "The graph has the following connenctions:\n",
            "[Head key 0 | Tail key 4 | Weight 1]\n",
            "[Head key 0 | Tail key 5 | Weight 1]\n",
            "[Head key 1 | Tail key 2 | Weight 2]\n",
            "[Head key 2 | Tail key 1 | Weight 1]\n",
            "[Head key 2 | Tail key 3 | Weight 3]\n",
            "[Head key 3 | Tail key 7 | Weight 3]\n",
            "[Head key 3 | Tail key 6 | Weight 1]\n",
            "[Head key 4 | Tail key 5 | Weight 1]\n",
            "[Head key 4 | Tail key 0 | Weight 3]\n",
            "[Head key 5 | Tail key 7 | Weight 1]\n",
            "[Head key 6 | Tail key 7 | Weight 1]\n",
            "[Head key 7 | Tail key 6 | Weight 1]\n",
            "[Head key 7 | Tail key 0 | Weight 1]\n",
            "\n",
            "\n"
          ],
          "name": "stdout"
        }
      ]
    },
    {
      "cell_type": "markdown",
      "metadata": {
        "id": "7044Vyj9rURZ"
      },
      "source": [
        "![picture](https://drive.google.com/uc?export=view&id=1ul9_8a4zF_W18aWpetiXRPE7_o40UiYM)"
      ]
    },
    {
      "cell_type": "code",
      "metadata": {
        "id": "mYeHShTbZv1O"
      },
      "source": [
        "def init_SSSP(G: W_Graph):\n",
        "  for v in G.V:\n",
        "    v.d = float('inf')\n",
        "    v.prec = None"
      ],
      "execution_count": 7,
      "outputs": []
    },
    {
      "cell_type": "code",
      "metadata": {
        "id": "W0_Vl01dRijJ"
      },
      "source": [
        "def relax(Q: binheap, u: Node, v:Node, w: float):\n",
        "  if (u.d + w < v.d):\n",
        "    Q.decrease_key(v.index_in_heap, u.d+w)\n",
        "    v.pred = u"
      ],
      "execution_count": 8,
      "outputs": []
    },
    {
      "cell_type": "code",
      "metadata": {
        "id": "DDVKHDuqhUP1"
      },
      "source": [
        "def path_finder(i: Node, s: Node): #returns the shortest path between two nodes\n",
        "  path = []\n",
        "  if i.key == s.key:\n",
        "    return path\n",
        "  else:\n",
        "    while i.key != s.key:\n",
        "      path.append(i.key)\n",
        "      i = i.pred\n",
        "    path.append(s.key)\n",
        "    final_path = path[::-1]\n",
        "    return final_path"
      ],
      "execution_count": 9,
      "outputs": []
    },
    {
      "cell_type": "code",
      "metadata": {
        "id": "fblDR214Sr9r"
      },
      "source": [
        "def dijkstra(G: W_Graph, s: Node, d: Node = None): #the second node is optional, if it is inserted the function only returns \n",
        "  init_SSSP(G)                                     #the shortest path between the source node and the destination node and its length.\n",
        "  s.d = 0                                          #if it is not inserted it returns the shortest path from the source node to all reachable nodes\n",
        "                                                   #and their length\n",
        "  Q = binheap(G.V)\n",
        "  for i, node in enumerate(Q._A): \n",
        "    node.index_in_heap = i\n",
        "\n",
        "  results = []\n",
        "  while not Q.is_empty():\n",
        "    u = Q.remove_minimum()\n",
        "    for element in G.A[u.index_in_adj]:\n",
        "      v, w = element\n",
        "      relax(Q, u, v, w)\n",
        "\n",
        "\n",
        "    if d == None:\n",
        "      if u == s:\n",
        "        print(f\"The path from the source node with key {s.key} to itself has length 0\")\n",
        "      else:\n",
        "        if u.d != float('inf'):\n",
        "          print(f\"The path from the node with key {s.key} to {u.key} has length {u.d}\")\n",
        "          print(\"The path visits the following nodes:\")\n",
        "          print(f\"{path_finder(u, s)}\")\n",
        "          results.append((path_finder(u, s),u.d))\n",
        "      print(\"\\n\")\n",
        "    else:\n",
        "      if u == d and u.d != float('inf'):\n",
        "        print(f\"The path from the node with key {s.key} to {u.key} has length {u.d}\")\n",
        "        print(\"The path visits the following nodes:\")\n",
        "        print(f\"{path_finder(u, s)}\")\n",
        "        print(\"\\n\")\n",
        "        results.append((path_finder(u, s),u.d))\n",
        "        break\n",
        "  if len(results) == 0:\n",
        "    print(\"There is no path between the two nodes\")\n",
        "    return results, float('inf')\n",
        "  return results\n"
      ],
      "execution_count": 10,
      "outputs": []
    },
    {
      "cell_type": "code",
      "metadata": {
        "colab": {
          "base_uri": "https://localhost:8080/"
        },
        "id": "kA0bttHYkgXV",
        "outputId": "647a39e9-3555-4f34-eb45-a84efb381a87"
      },
      "source": [
        "dijkstra(WG, d, f)"
      ],
      "execution_count": 11,
      "outputs": [
        {
          "output_type": "stream",
          "text": [
            "The path from the node with key 3 to 5 has length 4\n",
            "The path visits the following nodes:\n",
            "[3, 6, 7, 0, 5]\n",
            "\n",
            "\n"
          ],
          "name": "stdout"
        },
        {
          "output_type": "execute_result",
          "data": {
            "text/plain": [
              "[([3, 6, 7, 0, 5], 4)]"
            ]
          },
          "metadata": {
            "tags": []
          },
          "execution_count": 11
        }
      ]
    },
    {
      "cell_type": "code",
      "metadata": {
        "colab": {
          "base_uri": "https://localhost:8080/"
        },
        "id": "b1Ht9VCNoq7D",
        "outputId": "75580649-093f-4df4-abb1-3ff9398e2ffc"
      },
      "source": [
        "dijkstra(WG, d)"
      ],
      "execution_count": 12,
      "outputs": [
        {
          "output_type": "stream",
          "text": [
            "The path from the source node with key 3 to itself has length 0\n",
            "\n",
            "\n",
            "The path from the node with key 3 to 6 has length 1\n",
            "The path visits the following nodes:\n",
            "[3, 6]\n",
            "\n",
            "\n",
            "The path from the node with key 3 to 7 has length 2\n",
            "The path visits the following nodes:\n",
            "[3, 6, 7]\n",
            "\n",
            "\n",
            "The path from the node with key 3 to 0 has length 3\n",
            "The path visits the following nodes:\n",
            "[3, 6, 7, 0]\n",
            "\n",
            "\n",
            "The path from the node with key 3 to 4 has length 4\n",
            "The path visits the following nodes:\n",
            "[3, 6, 7, 0, 4]\n",
            "\n",
            "\n",
            "The path from the node with key 3 to 5 has length 4\n",
            "The path visits the following nodes:\n",
            "[3, 6, 7, 0, 5]\n",
            "\n",
            "\n",
            "\n",
            "\n",
            "\n",
            "\n"
          ],
          "name": "stdout"
        },
        {
          "output_type": "execute_result",
          "data": {
            "text/plain": [
              "[([3, 6], 1),\n",
              " ([3, 6, 7], 2),\n",
              " ([3, 6, 7, 0], 3),\n",
              " ([3, 6, 7, 0, 4], 4),\n",
              " ([3, 6, 7, 0, 5], 4)]"
            ]
          },
          "metadata": {
            "tags": []
          },
          "execution_count": 12
        }
      ]
    },
    {
      "cell_type": "code",
      "metadata": {
        "colab": {
          "base_uri": "https://localhost:8080/"
        },
        "id": "ZtGZPKtG7eeh",
        "outputId": "5be8e5c2-848b-441c-f5d0-f61502942558"
      },
      "source": [
        "dijkstra(WG, d, b)"
      ],
      "execution_count": 13,
      "outputs": [
        {
          "output_type": "stream",
          "text": [
            "There is no path between the two nodes\n"
          ],
          "name": "stdout"
        },
        {
          "output_type": "execute_result",
          "data": {
            "text/plain": [
              "([], inf)"
            ]
          },
          "metadata": {
            "tags": []
          },
          "execution_count": 13
        }
      ]
    },
    {
      "cell_type": "markdown",
      "metadata": {
        "id": "xcxXQluENzb0"
      },
      "source": [
        "## Exercise 2 \n",
        "Consider the contraction hierarchies presented during the course. Assume to deal with graphs that can be fully represented in the memory of your computer. Implement:\n",
        "1. an algorithm to add the shortcuts to a graph;\n",
        "2. a bidirectional version of Dijkstra algorithm that can operate on the graphs decorated by the algorithm at Point 2a. <re>\n",
        "\n",
        "### Solution:\n",
        "#### 2.1"
      ]
    },
    {
      "cell_type": "code",
      "metadata": {
        "id": "C40xkdP7pCB-"
      },
      "source": [
        "def shortcut(G: W_Graph, imp: int = None):\n",
        "  pres = bool(False)\n",
        "  if imp == None:  #searches for the node with the specified importance, if it has not been inserted it searches for the node with \n",
        "    imp = min(node.importance for node in G.V) #the lowest importance\n",
        "\n",
        "  else:    \n",
        "    for i in range(len(G.V)):\n",
        "      if G.V[i].importance == imp:\n",
        "        pres = True\n",
        "        break\n",
        "\n",
        "  for i in range(len(G.V)):\n",
        "    if G.V[i].importance == imp:\n",
        "      k = i\n",
        "      break\n",
        "\n",
        "  if (pres == False):\n",
        "    print(\"You either didn't insert a specific importance or the desired importance is not associted to any of the nodes. \\n Searching for the node with least importance\") \n",
        "\n",
        "  koi = G.V[k].key\n",
        "  nodes1 = []\n",
        "  print(f\"The eliminated node is the one with key: {koi}\")\n",
        "\n",
        "  for i in range(len(G.V)): #creates the list of nodes for the new graph\n",
        "    if not G.V[i].key == koi:\n",
        "      nodes1.append(G.V[i])\n",
        "\n",
        "  edges1 = []\n",
        "  tmp=[]\n",
        "  for i in range(len(G.E)):\n",
        "    if  G.E[i].head.key == koi or G.E[i].tail.key == koi: \n",
        "      tmp.append(G.E[i])\n",
        "    else:\n",
        "      edges1.append(G.E[i])  #adds the edges that do not involve the node we want to remove\n",
        "\n",
        "\n",
        "  test_in = bool(False)  #checks if there are edges which enter the node we want to remove\n",
        "  test_out = bool(False) #checks if there are edges which leave the node we want to remove\n",
        "  in_list = []           #if there is not at least one edge going in and one going out we can remove the node without creating any new edges.\n",
        "  out_list = []\n",
        "\n",
        "  for i in range(len(G.E)):\n",
        "    if G.E[i].head.key == koi:\n",
        "      test_out = True\n",
        "      out_list.append(G.E[i])\n",
        "    if G.E[i].tail.key == koi:\n",
        "      test_in = True\n",
        "      in_list.append(G.E[i])\n",
        "\n",
        "  new_edges = []\n",
        "  if not (test_in == True and test_out == True): #as we do not have to create any new edges we can create a new graph.\n",
        "    G_New = W_Graph(nodes1, edges1)\n",
        "  else:\n",
        "    for begin in in_list:\n",
        "      for end in out_list:\n",
        "        tmp = Edge(begin.head, end.tail, begin.weight+end.weight) #creates all possible combinations of edges among the nodes connected to the node \n",
        "        new_edges.append(tmp)                                     #we want to remove without going through the node itself.\n",
        "                                                                  #if we have 3 nodes a, b, c with an edge going from a to b and one from b to c\n",
        "                                                                  #and we want to remove node b, we would obtain an edge going directly from a to c\n",
        "  \n",
        "  new_edges_2 = [edge for edge in new_edges if not edge.head.key == edge.tail.key] #if the starting node and the ending node are the same we\n",
        "                                                                                   #remove the edge\n",
        "  to_add = []\n",
        "  is_dup = bool(False)\n",
        "  \n",
        "  for n in new_edges_2:\n",
        "    for o in edges1:\n",
        "      if(n.head == o.head and n.tail == o.tail): #checks is there already is an edge between the two nodes and compares the two weights\n",
        "        if o.weight > n.weight:                  #keeps the edge with the lowest weight\n",
        "          edges1.remove(o)\n",
        "        else:\n",
        "          new_edges_2.remove(n)\n",
        "\n",
        "  to_add = new_edges_2 + edges1\n",
        "  \n",
        "  G_New = W_Graph(nodes1, to_add)    #creates a new graph\n",
        "\n",
        "  return G_New"
      ],
      "execution_count": 14,
      "outputs": []
    },
    {
      "cell_type": "code",
      "metadata": {
        "id": "DBdpo1IEXmEX"
      },
      "source": [
        "def hierarchy(W: W_Graph):\n",
        "  it = len(W.V)\n",
        "  W.print_A()\n",
        "  for i in range(it):\n",
        "    W = shortcut(W)\n",
        "    W.print_A() "
      ],
      "execution_count": 15,
      "outputs": []
    },
    {
      "cell_type": "code",
      "metadata": {
        "id": "HOdPHNkR-A35",
        "colab": {
          "base_uri": "https://localhost:8080/"
        },
        "outputId": "f3666d4a-3a17-4295-e4f3-9307efa6af8f"
      },
      "source": [
        "hierarchy(WG)"
      ],
      "execution_count": 16,
      "outputs": [
        {
          "output_type": "stream",
          "text": [
            "The remaining nodes are: [2, 1, 5, 4, 0, 7, 6, 3].\n",
            "The graph has the following connenctions:\n",
            "[Head key 2 | Tail key 1 | Weight 1]\n",
            "[Head key 2 | Tail key 3 | Weight 3]\n",
            "[Head key 1 | Tail key 2 | Weight 2]\n",
            "[Head key 5 | Tail key 7 | Weight 1]\n",
            "[Head key 4 | Tail key 5 | Weight 1]\n",
            "[Head key 4 | Tail key 0 | Weight 3]\n",
            "[Head key 0 | Tail key 4 | Weight 1]\n",
            "[Head key 0 | Tail key 5 | Weight 1]\n",
            "[Head key 7 | Tail key 6 | Weight 1]\n",
            "[Head key 7 | Tail key 0 | Weight 1]\n",
            "[Head key 6 | Tail key 7 | Weight 1]\n",
            "[Head key 3 | Tail key 7 | Weight 3]\n",
            "[Head key 3 | Tail key 6 | Weight 1]\n",
            "\n",
            "\n",
            "You either didn't insert a specific importance or the desired importance is not associted to any of the nodes. \n",
            " Searching for the node with least importance\n",
            "The eliminated node is the one with key: 0\n",
            "The remaining nodes are: [2, 1, 5, 4, 7, 6, 3].\n",
            "The graph has the following connenctions:\n",
            "[Head key 2 | Tail key 1 | Weight 1]\n",
            "[Head key 2 | Tail key 3 | Weight 3]\n",
            "[Head key 1 | Tail key 2 | Weight 2]\n",
            "[Head key 5 | Tail key 7 | Weight 1]\n",
            "[Head key 4 | Tail key 5 | Weight 1]\n",
            "[Head key 7 | Tail key 4 | Weight 2]\n",
            "[Head key 7 | Tail key 5 | Weight 2]\n",
            "[Head key 7 | Tail key 6 | Weight 1]\n",
            "[Head key 6 | Tail key 7 | Weight 1]\n",
            "[Head key 3 | Tail key 7 | Weight 3]\n",
            "[Head key 3 | Tail key 6 | Weight 1]\n",
            "\n",
            "\n",
            "You either didn't insert a specific importance or the desired importance is not associted to any of the nodes. \n",
            " Searching for the node with least importance\n",
            "The eliminated node is the one with key: 1\n",
            "The remaining nodes are: [2, 5, 4, 7, 6, 3].\n",
            "The graph has the following connenctions:\n",
            "[Head key 2 | Tail key 3 | Weight 3]\n",
            "[Head key 5 | Tail key 7 | Weight 1]\n",
            "[Head key 4 | Tail key 5 | Weight 1]\n",
            "[Head key 7 | Tail key 4 | Weight 2]\n",
            "[Head key 7 | Tail key 5 | Weight 2]\n",
            "[Head key 7 | Tail key 6 | Weight 1]\n",
            "[Head key 6 | Tail key 7 | Weight 1]\n",
            "[Head key 3 | Tail key 7 | Weight 3]\n",
            "[Head key 3 | Tail key 6 | Weight 1]\n",
            "\n",
            "\n",
            "You either didn't insert a specific importance or the desired importance is not associted to any of the nodes. \n",
            " Searching for the node with least importance\n",
            "The eliminated node is the one with key: 2\n",
            "The remaining nodes are: [5, 4, 7, 6, 3].\n",
            "The graph has the following connenctions:\n",
            "[Head key 5 | Tail key 7 | Weight 1]\n",
            "[Head key 4 | Tail key 5 | Weight 1]\n",
            "[Head key 7 | Tail key 4 | Weight 2]\n",
            "[Head key 7 | Tail key 5 | Weight 2]\n",
            "[Head key 7 | Tail key 6 | Weight 1]\n",
            "[Head key 6 | Tail key 7 | Weight 1]\n",
            "[Head key 3 | Tail key 7 | Weight 3]\n",
            "[Head key 3 | Tail key 6 | Weight 1]\n",
            "\n",
            "\n",
            "You either didn't insert a specific importance or the desired importance is not associted to any of the nodes. \n",
            " Searching for the node with least importance\n",
            "The eliminated node is the one with key: 3\n",
            "The remaining nodes are: [5, 4, 7, 6].\n",
            "The graph has the following connenctions:\n",
            "[Head key 5 | Tail key 7 | Weight 1]\n",
            "[Head key 4 | Tail key 5 | Weight 1]\n",
            "[Head key 7 | Tail key 4 | Weight 2]\n",
            "[Head key 7 | Tail key 5 | Weight 2]\n",
            "[Head key 7 | Tail key 6 | Weight 1]\n",
            "[Head key 6 | Tail key 7 | Weight 1]\n",
            "\n",
            "\n",
            "You either didn't insert a specific importance or the desired importance is not associted to any of the nodes. \n",
            " Searching for the node with least importance\n",
            "The eliminated node is the one with key: 4\n",
            "The remaining nodes are: [5, 7, 6].\n",
            "The graph has the following connenctions:\n",
            "[Head key 5 | Tail key 7 | Weight 1]\n",
            "[Head key 7 | Tail key 5 | Weight 2]\n",
            "[Head key 7 | Tail key 6 | Weight 1]\n",
            "[Head key 6 | Tail key 7 | Weight 1]\n",
            "\n",
            "\n",
            "You either didn't insert a specific importance or the desired importance is not associted to any of the nodes. \n",
            " Searching for the node with least importance\n",
            "The eliminated node is the one with key: 5\n",
            "The remaining nodes are: [7, 6].\n",
            "The graph has the following connenctions:\n",
            "[Head key 7 | Tail key 6 | Weight 1]\n",
            "[Head key 6 | Tail key 7 | Weight 1]\n",
            "\n",
            "\n",
            "You either didn't insert a specific importance or the desired importance is not associted to any of the nodes. \n",
            " Searching for the node with least importance\n",
            "The eliminated node is the one with key: 6\n",
            "The only remaining node is: [7].\n",
            "Since there is only one node, there are no edges.\n",
            "\n",
            "\n",
            "You either didn't insert a specific importance or the desired importance is not associted to any of the nodes. \n",
            " Searching for the node with least importance\n",
            "The eliminated node is the one with key: 7\n",
            "There are no nodes and thus no edges.\n",
            "\n",
            "\n"
          ],
          "name": "stdout"
        }
      ]
    },
    {
      "cell_type": "markdown",
      "metadata": {
        "id": "G8LMB-eRyPDG"
      },
      "source": [
        "#### 2.2"
      ]
    },
    {
      "cell_type": "code",
      "metadata": {
        "colab": {
          "base_uri": "https://localhost:8080/"
        },
        "id": "p1E9PxlTjMnh",
        "outputId": "bb117f84-4350-4bae-f508-3b879a0ab535"
      },
      "source": [
        "a=Node(0, 1)\n",
        "b=Node(1, 2)\n",
        "c=Node(2, 3)\n",
        "d=Node(3, 4)\n",
        "e=Node(4, 5)\n",
        "f=Node(5, 6)\n",
        "g=Node(6, 7)\n",
        "h=Node(7, 8)\n",
        "\n",
        "nodes = [a,b,c,d,e,f,g,h]\n",
        "edges=[Edge(a,e,1),Edge(a,f,1),Edge(b,c,2),Edge(c,b,1),Edge(c,d,3),Edge(d,h,3),Edge(d,g,1),Edge(e,f,1),Edge(e,a,3),Edge(f,h,1),Edge(g,h,1),Edge(h,g,1),Edge(h,a,1) ]\n",
        "WG = W_Graph(nodes, edges)\n",
        "WG.print_A()"
      ],
      "execution_count": 17,
      "outputs": [
        {
          "output_type": "stream",
          "text": [
            "The remaining nodes are: [0, 1, 2, 3, 4, 5, 6, 7].\n",
            "The graph has the following connenctions:\n",
            "[Head key 0 | Tail key 4 | Weight 1]\n",
            "[Head key 0 | Tail key 5 | Weight 1]\n",
            "[Head key 1 | Tail key 2 | Weight 2]\n",
            "[Head key 2 | Tail key 1 | Weight 1]\n",
            "[Head key 2 | Tail key 3 | Weight 3]\n",
            "[Head key 3 | Tail key 7 | Weight 3]\n",
            "[Head key 3 | Tail key 6 | Weight 1]\n",
            "[Head key 4 | Tail key 5 | Weight 1]\n",
            "[Head key 4 | Tail key 0 | Weight 3]\n",
            "[Head key 5 | Tail key 7 | Weight 1]\n",
            "[Head key 6 | Tail key 7 | Weight 1]\n",
            "[Head key 7 | Tail key 6 | Weight 1]\n",
            "[Head key 7 | Tail key 0 | Weight 1]\n",
            "\n",
            "\n"
          ],
          "name": "stdout"
        }
      ]
    },
    {
      "cell_type": "code",
      "metadata": {
        "id": "xUoXjeiDIRrI"
      },
      "source": [
        "from copy import deepcopy\n",
        "\n",
        "def flip_graph(G: W_Graph) -> W_Graph: #function to invert the edges of a graph\n",
        "  old_nodes = G.V\n",
        "  new_nodes = deepcopy(G.V) #a deepcopy is required to create two separate versions of the nodes  \n",
        "\n",
        "  old_edges = G.E\n",
        "  new_edges = []\n",
        "\n",
        "  for o in old_edges: #flippes the edges\n",
        "    ho = o.head.key\n",
        "    to = o.tail.key\n",
        "    for n in new_nodes:\n",
        "      if ho == n.key:\n",
        "        tn = n\n",
        "      if to == n.key:\n",
        "        hn = n\n",
        "    ne = Edge(hn, tn, o.weight )\n",
        "    new_edges.append(ne)\n",
        "  \n",
        "  FG = W_Graph(new_nodes, new_edges) #creates new graph\n",
        "  return FG"
      ],
      "execution_count": 18,
      "outputs": []
    },
    {
      "cell_type": "code",
      "metadata": {
        "id": "Ow3oAVYq4gsu"
      },
      "source": [
        "def init_SSSP_bi(G: W_Graph, n: Node): #it is used to directly initialize the source nodes distance to zero\n",
        "  for v in G.V:\n",
        "    if v.key == n.key:\n",
        "      v.d = 0\n",
        "    else:\n",
        "      v.d = float('inf')\n",
        "    v.prec = None"
      ],
      "execution_count": 19,
      "outputs": []
    },
    {
      "cell_type": "code",
      "metadata": {
        "id": "nJKpUbjPzIyt"
      },
      "source": [
        "def bijkstra(G: W_Graph, s: Node, d: Node):\n",
        "  flipped_G = flip_graph(G)       #creates a new graph with the same nodes as the previous but inverted edges \n",
        "    \n",
        "  init_SSSP_bi(G, s)\n",
        "  init_SSSP_bi(flipped_G, d)\n",
        "\n",
        "  fin = []\n",
        "  flipped_fin = []\n",
        "\n",
        "  Q = binheap(G.V)                \n",
        "  flipped_Q = binheap(flipped_G.V)\n",
        "\n",
        "  for i, node in enumerate(Q._A):\n",
        "    node.index_in_heap = i\n",
        "\n",
        "  for i, node in enumerate(flipped_Q._A):\n",
        "    node.index_in_heap = i\n",
        "\n",
        "    \n",
        "  while not Q.is_empty() and not flipped_Q.is_empty():\n",
        "    u = Q.remove_minimum()\n",
        "    u_f = flipped_Q.remove_minimum()\n",
        "\n",
        "    for element in G.A[u.index_in_adj]:\n",
        "      v, w = element\n",
        "      relax(Q, u, v, w)\n",
        "      \n",
        "\n",
        "    for element in flipped_G.A[u_f.index_in_adj]:\n",
        "      v_f, w_f = element\n",
        "      relax(flipped_Q, u_f, v_f, w_f)\n",
        "      \n",
        "\n",
        "    fin.append(u)\n",
        "    flipped_fin.append(u_f)\n",
        "\n",
        "    for i in fin:                     #a similar procedure to the one used in the normal version of Dijkstra is applied in both directions\n",
        "      if u_f.key == i.key:            #the procedure is stopped when the same node is finalized in both  direcions\n",
        "        if u_f.d+i.d != float('inf'):\n",
        "          print(f\"The shortest path between the node with key {s.key} to the node with key {d.key} has length {u_f.d + i.d}:\")\n",
        "          print(\"The path visits the following nodes:\")\n",
        "          print(path_finder(i, s)[:-1]+path_finder(u_f, d)[::-1])\n",
        "          return path_finder(i, s)[:-1]+path_finder(u_f, d)[::-1], u_f.d + i.d\n",
        "\n",
        "    for j in flipped_fin:\n",
        "      if u.key == j.key:\n",
        "        if u.d+j.d != float('inf'):\n",
        "          print(f\"The shortest path between the node with key {s.key} to the node with key {d.d} has length {u.d + j.d}:\")\n",
        "          print(\"The path visits the following nodes:\")\n",
        "          print(path_finder(u, s)[:-1]+path_finder(j, d)[::-1])\n",
        "          return path_finder(u, s)[:-1]+path_finder(j, d)[::-1], u.d + j.d\n",
        "  print(\"There is no path between the two nodes\")\n",
        "  return [], float('inf')\n"
      ],
      "execution_count": 20,
      "outputs": []
    },
    {
      "cell_type": "code",
      "metadata": {
        "colab": {
          "base_uri": "https://localhost:8080/"
        },
        "id": "oKXmlh87Q5X5",
        "outputId": "c293559c-dcd8-4824-e7cd-998ed35b0878"
      },
      "source": [
        "bijkstra(WG, e, b)"
      ],
      "execution_count": 21,
      "outputs": [
        {
          "output_type": "stream",
          "text": [
            "There is no path between the two nodes\n"
          ],
          "name": "stdout"
        },
        {
          "output_type": "execute_result",
          "data": {
            "text/plain": [
              "([], inf)"
            ]
          },
          "metadata": {
            "tags": []
          },
          "execution_count": 21
        }
      ]
    },
    {
      "cell_type": "code",
      "metadata": {
        "id": "-Z9K2qlwr73R",
        "colab": {
          "base_uri": "https://localhost:8080/"
        },
        "outputId": "03eb697f-5a35-4f42-b5ee-8aa880b8b4e4"
      },
      "source": [
        "bijkstra(WG, b, e)"
      ],
      "execution_count": 22,
      "outputs": [
        {
          "output_type": "stream",
          "text": [
            "The shortest path between the node with key 1 to the node with key 4 has length 9:\n",
            "The path visits the following nodes:\n",
            "[1, 2, 3, 6, 7, 0, 4]\n"
          ],
          "name": "stdout"
        },
        {
          "output_type": "execute_result",
          "data": {
            "text/plain": [
              "([1, 2, 3, 6, 7, 0, 4], 9)"
            ]
          },
          "metadata": {
            "tags": []
          },
          "execution_count": 22
        }
      ]
    }
  ]
}